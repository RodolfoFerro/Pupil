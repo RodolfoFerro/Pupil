{
 "cells": [
  {
   "cell_type": "code",
   "execution_count": 1,
   "metadata": {
    "ExecuteTime": {
     "end_time": "2018-01-31T03:21:28.487210Z",
     "start_time": "2018-01-31T03:21:25.565660Z"
    }
   },
   "outputs": [
    {
     "name": "stderr",
     "output_type": "stream",
     "text": [
      "/Users/RodolfoFerro/anaconda3/envs/tensorflow/lib/python3.5/site-packages/h5py/__init__.py:36: FutureWarning: Conversion of the second argument of issubdtype from `float` to `np.floating` is deprecated. In future, it will be treated as `np.float64 == np.dtype(float).type`.\n",
      "  from ._conv import register_converters as _register_converters\n",
      "Using TensorFlow backend.\n"
     ]
    }
   ],
   "source": [
    "# Keras:\n",
    "from keras.layers.core import Dense, Activation\n",
    "from keras.utils import plot_model, np_utils\n",
    "from keras.models import Sequential\n",
    "\n",
    "# Base packages:\n",
    "from IPython.display import SVG\n",
    "import matplotlib.pyplot as plt\n",
    "import seaborn as sns\n",
    "import pandas as pd\n",
    "import numpy as np"
   ]
  },
  {
   "cell_type": "code",
   "execution_count": 2,
   "metadata": {
    "ExecuteTime": {
     "end_time": "2018-01-31T03:21:28.542784Z",
     "start_time": "2018-01-31T03:21:28.489700Z"
    }
   },
   "outputs": [
    {
     "data": {
      "text/html": [
       "<div>\n",
       "<style scoped>\n",
       "    .dataframe tbody tr th:only-of-type {\n",
       "        vertical-align: middle;\n",
       "    }\n",
       "\n",
       "    .dataframe tbody tr th {\n",
       "        vertical-align: top;\n",
       "    }\n",
       "\n",
       "    .dataframe thead th {\n",
       "        text-align: right;\n",
       "    }\n",
       "</style>\n",
       "<table border=\"1\" class=\"dataframe\">\n",
       "  <thead>\n",
       "    <tr style=\"text-align: right;\">\n",
       "      <th></th>\n",
       "      <th>Participant</th>\n",
       "      <th>World</th>\n",
       "      <th>TrialName</th>\n",
       "      <th>Task</th>\n",
       "      <th>Duration</th>\n",
       "      <th>Milliseconds</th>\n",
       "      <th>Errors</th>\n",
       "      <th>Baseline</th>\n",
       "      <th>APCPS</th>\n",
       "      <th>MPD</th>\n",
       "      <th>...</th>\n",
       "      <th>MPDC_A</th>\n",
       "      <th>SD_A</th>\n",
       "      <th>PeakDilation_A</th>\n",
       "      <th>Latencytopeak_A</th>\n",
       "      <th>Changeposition_A</th>\n",
       "      <th>Attempts_A</th>\n",
       "      <th>ChangepositionAttemps_A</th>\n",
       "      <th>Errorschangeposition_A</th>\n",
       "      <th>ErrorsAttemps_A</th>\n",
       "      <th>Totalerrors_A</th>\n",
       "    </tr>\n",
       "  </thead>\n",
       "  <tbody>\n",
       "    <tr>\n",
       "      <th>0</th>\n",
       "      <td>1</td>\n",
       "      <td>2</td>\n",
       "      <td>2_5</td>\n",
       "      <td>25</td>\n",
       "      <td>00:00:45</td>\n",
       "      <td>44785</td>\n",
       "      <td>0</td>\n",
       "      <td>30,7896</td>\n",
       "      <td>,0409</td>\n",
       "      <td>32,049</td>\n",
       "      <td>...</td>\n",
       "      <td>2,9259</td>\n",
       "      <td>1,5489</td>\n",
       "      <td>6,0057</td>\n",
       "      <td>65</td>\n",
       "      <td>2</td>\n",
       "      <td>0</td>\n",
       "      <td>2</td>\n",
       "      <td>3</td>\n",
       "      <td>1</td>\n",
       "      <td>3</td>\n",
       "    </tr>\n",
       "    <tr>\n",
       "      <th>1</th>\n",
       "      <td>3</td>\n",
       "      <td>2</td>\n",
       "      <td>2_4</td>\n",
       "      <td>24</td>\n",
       "      <td>00:01:53</td>\n",
       "      <td>112464</td>\n",
       "      <td>1</td>\n",
       "      <td>18,1298</td>\n",
       "      <td>,0524</td>\n",
       "      <td>19,0801</td>\n",
       "      <td>...</td>\n",
       "      <td>2,3878</td>\n",
       "      <td>1,3852</td>\n",
       "      <td>4,9936</td>\n",
       "      <td>33</td>\n",
       "      <td>0</td>\n",
       "      <td>2</td>\n",
       "      <td>2</td>\n",
       "      <td>0</td>\n",
       "      <td>2</td>\n",
       "      <td>2</td>\n",
       "    </tr>\n",
       "    <tr>\n",
       "      <th>2</th>\n",
       "      <td>6</td>\n",
       "      <td>2</td>\n",
       "      <td>2_4</td>\n",
       "      <td>24</td>\n",
       "      <td>00:00:40</td>\n",
       "      <td>39458</td>\n",
       "      <td>0</td>\n",
       "      <td>27,0984</td>\n",
       "      <td>,0869</td>\n",
       "      <td>29,4543</td>\n",
       "      <td>...</td>\n",
       "      <td>2,2689</td>\n",
       "      <td>,8128</td>\n",
       "      <td>4,0133</td>\n",
       "      <td>9</td>\n",
       "      <td>0</td>\n",
       "      <td>0</td>\n",
       "      <td>0</td>\n",
       "      <td>0</td>\n",
       "      <td>0</td>\n",
       "      <td>0</td>\n",
       "    </tr>\n",
       "    <tr>\n",
       "      <th>3</th>\n",
       "      <td>6</td>\n",
       "      <td>2</td>\n",
       "      <td>2_5</td>\n",
       "      <td>25</td>\n",
       "      <td>00:00:46</td>\n",
       "      <td>45055</td>\n",
       "      <td>0</td>\n",
       "      <td>29,3381</td>\n",
       "      <td>,0288</td>\n",
       "      <td>30,1824</td>\n",
       "      <td>...</td>\n",
       "      <td>1,3159</td>\n",
       "      <td>,8638</td>\n",
       "      <td>3,0021</td>\n",
       "      <td>38</td>\n",
       "      <td>1</td>\n",
       "      <td>0</td>\n",
       "      <td>1</td>\n",
       "      <td>1</td>\n",
       "      <td>0</td>\n",
       "      <td>1</td>\n",
       "    </tr>\n",
       "    <tr>\n",
       "      <th>4</th>\n",
       "      <td>7</td>\n",
       "      <td>2</td>\n",
       "      <td>2_4</td>\n",
       "      <td>24</td>\n",
       "      <td>00:02:28</td>\n",
       "      <td>147727</td>\n",
       "      <td>7</td>\n",
       "      <td>25,5965</td>\n",
       "      <td>,0839</td>\n",
       "      <td>27,745</td>\n",
       "      <td>...</td>\n",
       "      <td>4,3299</td>\n",
       "      <td>1,0139</td>\n",
       "      <td>6,9429</td>\n",
       "      <td>14</td>\n",
       "      <td>0</td>\n",
       "      <td>0</td>\n",
       "      <td>0</td>\n",
       "      <td>0</td>\n",
       "      <td>0</td>\n",
       "      <td>0</td>\n",
       "    </tr>\n",
       "  </tbody>\n",
       "</table>\n",
       "<p>5 rows × 40 columns</p>\n",
       "</div>"
      ],
      "text/plain": [
       "   Participant  World TrialName  Task  Duration  Milliseconds  Errors  \\\n",
       "0            1      2       2_5    25  00:00:45         44785       0   \n",
       "1            3      2       2_4    24  00:01:53        112464       1   \n",
       "2            6      2       2_4    24  00:00:40         39458       0   \n",
       "3            6      2       2_5    25  00:00:46         45055       0   \n",
       "4            7      2       2_4    24  00:02:28        147727       7   \n",
       "\n",
       "  Baseline  APCPS      MPD      ...        MPDC_A    SD_A PeakDilation_A  \\\n",
       "0  30,7896  ,0409   32,049      ...        2,9259  1,5489         6,0057   \n",
       "1  18,1298  ,0524  19,0801      ...        2,3878  1,3852         4,9936   \n",
       "2  27,0984  ,0869  29,4543      ...        2,2689   ,8128         4,0133   \n",
       "3  29,3381  ,0288  30,1824      ...        1,3159   ,8638         3,0021   \n",
       "4  25,5965  ,0839   27,745      ...        4,3299  1,0139         6,9429   \n",
       "\n",
       "   Latencytopeak_A  Changeposition_A  Attempts_A  ChangepositionAttemps_A  \\\n",
       "0               65                 2           0                        2   \n",
       "1               33                 0           2                        2   \n",
       "2                9                 0           0                        0   \n",
       "3               38                 1           0                        1   \n",
       "4               14                 0           0                        0   \n",
       "\n",
       "   Errorschangeposition_A  ErrorsAttemps_A  Totalerrors_A  \n",
       "0                       3                1              3  \n",
       "1                       0                2              2  \n",
       "2                       0                0              0  \n",
       "3                       1                0              1  \n",
       "4                       0                0              0  \n",
       "\n",
       "[5 rows x 40 columns]"
      ]
     },
     "execution_count": 2,
     "metadata": {},
     "output_type": "execute_result"
    }
   ],
   "source": [
    "# Load data:\n",
    "data = pd.read_csv(\"../data/Final_Results_Pupil_v2.csv\", sep=\";\")\n",
    "\n",
    "# Print first 5 rows:\n",
    "data.head()"
   ]
  },
  {
   "cell_type": "code",
   "execution_count": 3,
   "metadata": {
    "ExecuteTime": {
     "end_time": "2018-01-31T03:21:28.553708Z",
     "start_time": "2018-01-31T03:21:28.546027Z"
    }
   },
   "outputs": [
    {
     "name": "stdout",
     "output_type": "stream",
     "text": [
      "Testing indices: [0, 1, 22, 23, 24, 25, 49]\n"
     ]
    }
   ],
   "source": [
    "# Create testing indices.\n",
    "# Subjects: 1, 3, 20\n",
    "test_idx = [0, 1, 22, 23, 24, 25, 49]\n",
    "print(\"Testing indices:\", test_idx)"
   ]
  },
  {
   "cell_type": "code",
   "execution_count": 4,
   "metadata": {
    "ExecuteTime": {
     "end_time": "2018-01-31T03:21:28.577687Z",
     "start_time": "2018-01-31T03:21:28.558288Z"
    },
    "collapsed": true
   },
   "outputs": [],
   "source": [
    "def clean_data(data):\n",
    "    \"\"\"Utlity function to parse data.\"\"\"\n",
    "    for col in range(data.shape[1]):\n",
    "        for row in range(data.shape[0]):\n",
    "            try:\n",
    "                data[row, col] = float(data[row, col].replace(',', '.'))\n",
    "            except:\n",
    "                pass\n",
    "\n",
    "def one_hot_encode_object_array(arr):\n",
    "    \"\"\"One hot encode a numpy array of objects (e.g. strings)\"\"\"\n",
    "    uniques, ids = np.unique(arr, return_inverse=True)\n",
    "    return np_utils.to_categorical(ids, len(uniques))"
   ]
  },
  {
   "cell_type": "code",
   "execution_count": 5,
   "metadata": {
    "ExecuteTime": {
     "end_time": "2018-01-31T03:21:28.623308Z",
     "start_time": "2018-01-31T03:21:28.583439Z"
    },
    "collapsed": true
   },
   "outputs": [],
   "source": [
    "# Create features and labels (data):\n",
    "features = data[['Errors', 'Milliseconds', 'MPDC', 'PeakDilation']].values\n",
    "labels = data[['World']].values\n",
    "clean_data(features)\n",
    "\n",
    "# Create features and labels (names):\n",
    "feature_names = np.array(['Errors', 'Milliseconds', 'MPDC', 'PeakDilation'])\n",
    "label_names = np.array(['World 1', 'World 2'])\n",
    "\n",
    "# Create training data:\n",
    "train_data = np.delete(features, test_idx, axis=0)\n",
    "train_lbls = np.delete(labels, test_idx)\n",
    "\n",
    "# Create testing data:\n",
    "test_data = features[test_idx]\n",
    "test_lbls = labels[test_idx]\n",
    "\n",
    "# Rebuild labels data:\n",
    "train_lbls_ohe = one_hot_encode_object_array(train_lbls)\n",
    "test_lbls_ohe = one_hot_encode_object_array(test_lbls)"
   ]
  },
  {
   "cell_type": "code",
   "execution_count": 6,
   "metadata": {
    "ExecuteTime": {
     "end_time": "2018-01-31T03:21:28.882594Z",
     "start_time": "2018-01-31T03:21:28.628908Z"
    }
   },
   "outputs": [
    {
     "name": "stdout",
     "output_type": "stream",
     "text": [
      "_________________________________________________________________\n",
      "Layer (type)                 Output Shape              Param #   \n",
      "=================================================================\n",
      "dense_1 (Dense)              (None, 12)                60        \n",
      "_________________________________________________________________\n",
      "dense_2 (Dense)              (None, 8)                 104       \n",
      "_________________________________________________________________\n",
      "dense_3 (Dense)              (None, 4)                 36        \n",
      "_________________________________________________________________\n",
      "dense_4 (Dense)              (None, 2)                 10        \n",
      "=================================================================\n",
      "Total params: 210\n",
      "Trainable params: 210\n",
      "Non-trainable params: 0\n",
      "_________________________________________________________________\n"
     ]
    }
   ],
   "source": [
    "# Build model:\n",
    "from keras.models import Sequential\n",
    "from keras.layers import Dense\n",
    "from keras.optimizers import SGD, Adam\n",
    "\n",
    "\n",
    "model = Sequential()\n",
    "model.add(Dense(12, input_shape=(4,), activation='tanh'))\n",
    "model.add(Dense(8, activation='tanh'))\n",
    "model.add(Dense(4, activation='tanh'))\n",
    "model.add(Dense(2, activation='softmax'))\n",
    "\n",
    "model.compile(Adam(lr=1e-7), loss='categorical_crossentropy', metrics=[\"accuracy\"])\n",
    "\n",
    "model.summary()"
   ]
  },
  {
   "cell_type": "code",
   "execution_count": 7,
   "metadata": {
    "ExecuteTime": {
     "end_time": "2018-01-31T03:21:34.053934Z",
     "start_time": "2018-01-31T03:21:28.886120Z"
    }
   },
   "outputs": [
    {
     "name": "stdout",
     "output_type": "stream",
     "text": [
      "Epoch 1/300\n",
      "43/43 [==============================] - 0s 10ms/step - loss: 0.8138 - acc: 0.4651\n",
      "Epoch 2/300\n",
      "43/43 [==============================] - 0s 138us/step - loss: 0.8138 - acc: 0.4651\n",
      "Epoch 3/300\n",
      "43/43 [==============================] - 0s 118us/step - loss: 0.8138 - acc: 0.4651\n",
      "Epoch 4/300\n",
      "43/43 [==============================] - 0s 117us/step - loss: 0.8138 - acc: 0.4651\n",
      "Epoch 5/300\n",
      "43/43 [==============================] - 0s 130us/step - loss: 0.8138 - acc: 0.4651\n",
      "Epoch 6/300\n",
      "43/43 [==============================] - 0s 147us/step - loss: 0.8138 - acc: 0.4651\n",
      "Epoch 7/300\n",
      "43/43 [==============================] - 0s 110us/step - loss: 0.8138 - acc: 0.4651\n",
      "Epoch 8/300\n",
      "43/43 [==============================] - 0s 123us/step - loss: 0.8138 - acc: 0.4651\n",
      "Epoch 9/300\n",
      "43/43 [==============================] - 0s 123us/step - loss: 0.8138 - acc: 0.4651\n",
      "Epoch 10/300\n",
      "43/43 [==============================] - 0s 138us/step - loss: 0.8138 - acc: 0.4651\n",
      "Epoch 11/300\n",
      "43/43 [==============================] - 0s 175us/step - loss: 0.8138 - acc: 0.4651\n",
      "Epoch 12/300\n",
      "43/43 [==============================] - 0s 129us/step - loss: 0.8138 - acc: 0.4651\n",
      "Epoch 13/300\n",
      "43/43 [==============================] - 0s 128us/step - loss: 0.8138 - acc: 0.4651\n",
      "Epoch 14/300\n",
      "43/43 [==============================] - 0s 147us/step - loss: 0.8138 - acc: 0.4651\n",
      "Epoch 15/300\n",
      "43/43 [==============================] - 0s 179us/step - loss: 0.8138 - acc: 0.4651\n",
      "Epoch 16/300\n",
      "43/43 [==============================] - 0s 133us/step - loss: 0.8138 - acc: 0.4651\n",
      "Epoch 17/300\n",
      "43/43 [==============================] - 0s 143us/step - loss: 0.8138 - acc: 0.4651\n",
      "Epoch 18/300\n",
      "43/43 [==============================] - 0s 147us/step - loss: 0.8138 - acc: 0.4651\n",
      "Epoch 19/300\n",
      "43/43 [==============================] - 0s 141us/step - loss: 0.8138 - acc: 0.4651\n",
      "Epoch 20/300\n",
      "43/43 [==============================] - 0s 121us/step - loss: 0.8138 - acc: 0.4651\n",
      "Epoch 21/300\n",
      "43/43 [==============================] - 0s 169us/step - loss: 0.8138 - acc: 0.4651\n",
      "Epoch 22/300\n",
      "43/43 [==============================] - 0s 386us/step - loss: 0.8138 - acc: 0.4651\n",
      "Epoch 23/300\n",
      "43/43 [==============================] - 0s 198us/step - loss: 0.8138 - acc: 0.4651\n",
      "Epoch 24/300\n",
      "43/43 [==============================] - 0s 508us/step - loss: 0.8138 - acc: 0.4651\n",
      "Epoch 25/300\n",
      "43/43 [==============================] - 0s 290us/step - loss: 0.8138 - acc: 0.4651\n",
      "Epoch 26/300\n",
      "43/43 [==============================] - 0s 446us/step - loss: 0.8138 - acc: 0.4651\n",
      "Epoch 27/300\n",
      "43/43 [==============================] - 0s 206us/step - loss: 0.8138 - acc: 0.4651\n",
      "Epoch 28/300\n",
      "43/43 [==============================] - 0s 198us/step - loss: 0.8138 - acc: 0.4651\n",
      "Epoch 29/300\n",
      "43/43 [==============================] - 0s 231us/step - loss: 0.8138 - acc: 0.4651\n",
      "Epoch 30/300\n",
      "43/43 [==============================] - 0s 750us/step - loss: 0.8138 - acc: 0.4651\n",
      "Epoch 31/300\n",
      "43/43 [==============================] - 0s 280us/step - loss: 0.8138 - acc: 0.4651\n",
      "Epoch 32/300\n",
      "43/43 [==============================] - 0s 241us/step - loss: 0.8138 - acc: 0.4651\n",
      "Epoch 33/300\n",
      "43/43 [==============================] - 0s 231us/step - loss: 0.8138 - acc: 0.4651\n",
      "Epoch 34/300\n",
      "43/43 [==============================] - 0s 172us/step - loss: 0.8138 - acc: 0.4651\n",
      "Epoch 35/300\n",
      "43/43 [==============================] - 0s 168us/step - loss: 0.8138 - acc: 0.4651\n",
      "Epoch 36/300\n",
      "43/43 [==============================] - 0s 222us/step - loss: 0.8138 - acc: 0.4651\n",
      "Epoch 37/300\n",
      "43/43 [==============================] - 0s 223us/step - loss: 0.8138 - acc: 0.4651\n",
      "Epoch 38/300\n",
      "43/43 [==============================] - 0s 246us/step - loss: 0.8138 - acc: 0.4651\n",
      "Epoch 39/300\n",
      "43/43 [==============================] - 0s 326us/step - loss: 0.8138 - acc: 0.4651\n",
      "Epoch 40/300\n",
      "32/43 [=====================>........] - ETA: 0s - loss: 0.8376 - acc: 0.43"
     ]
    },
    {
     "data": {
      "text/html": [
       "<b>limit_output extension: Maximum message size of 10000 exceeded with 10110 characters</b>"
      ]
     },
     "metadata": {},
     "output_type": "display_data"
    }
   ],
   "source": [
    "#fitting the model and predicting \n",
    "model.fit(train_data, train_lbls_ohe, epochs=300)"
   ]
  },
  {
   "cell_type": "code",
   "execution_count": 8,
   "metadata": {
    "ExecuteTime": {
     "end_time": "2018-01-31T03:21:34.106759Z",
     "start_time": "2018-01-31T03:21:34.059955Z"
    }
   },
   "outputs": [
    {
     "name": "stdout",
     "output_type": "stream",
     "text": [
      "Accuracy: 57.14%\n"
     ]
    }
   ],
   "source": [
    "loss, accuracy = model.evaluate(test_data, test_lbls_ohe, verbose=0)\n",
    "print(\"Accuracy: {:.2f}%\".format(accuracy*100))"
   ]
  },
  {
   "cell_type": "code",
   "execution_count": 9,
   "metadata": {
    "ExecuteTime": {
     "end_time": "2018-01-31T03:21:34.118963Z",
     "start_time": "2018-01-31T03:21:34.113928Z"
    }
   },
   "outputs": [],
   "source": [
    "#plot_model(model, to_file='../imgs/ANN.svg', show_shapes=True, show_layer_names=True) \n",
    "#SVG(\"../imgs/ANN.svg\")"
   ]
  },
  {
   "cell_type": "code",
   "execution_count": null,
   "metadata": {
    "collapsed": true
   },
   "outputs": [],
   "source": []
  }
 ],
 "metadata": {
  "anaconda-cloud": {},
  "kernelspec": {
   "display_name": "Python [conda env:tensorflow]",
   "language": "python",
   "name": "conda-env-tensorflow-py"
  },
  "language_info": {
   "codemirror_mode": {
    "name": "ipython",
    "version": 3
   },
   "file_extension": ".py",
   "mimetype": "text/x-python",
   "name": "python",
   "nbconvert_exporter": "python",
   "pygments_lexer": "ipython3",
   "version": "3.5.3"
  },
  "toc": {
   "colors": {
    "hover_highlight": "#DAA520",
    "navigate_num": "#000000",
    "navigate_text": "#333333",
    "running_highlight": "#FF0000",
    "selected_highlight": "#FFD700",
    "sidebar_border": "#EEEEEE",
    "wrapper_background": "#FFFFFF"
   },
   "moveMenuLeft": true,
   "nav_menu": {
    "height": "12px",
    "width": "252px"
   },
   "navigate_menu": true,
   "number_sections": true,
   "sideBar": true,
   "threshold": 4,
   "toc_cell": false,
   "toc_section_display": "block",
   "toc_window_display": false,
   "widenNotebook": false
  }
 },
 "nbformat": 4,
 "nbformat_minor": 2
}
